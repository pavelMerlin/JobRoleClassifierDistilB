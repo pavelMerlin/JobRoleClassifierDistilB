{
 "cells": [
  {
   "metadata": {
    "ExecuteTime": {
     "end_time": "2024-09-26T13:31:20.466896Z",
     "start_time": "2024-09-26T13:31:09.354360Z"
    }
   },
   "cell_type": "code",
   "source": [
    "import pandas as pd\n",
    "import matplotlib.pyplot as plt\n",
    "import numpy as np\n",
    "\n",
    "from transformers import DistilBertTokenizer, DistilBertForSequenceClassification\n",
    "import torch\n",
    "from iterstrat.ml_stratifiers import MultilabelStratifiedKFold\n",
    "from torch.optim import AdamW\n",
    "\n",
    "from sklearn.metrics import f1_score, accuracy_score\n",
    "from torch.utils.data import DataLoader, TensorDataset\n",
    "\n",
    "from sklearn.preprocessing import MultiLabelBinarizer\n",
    "from torch.nn.utils.rnn import pad_sequence\n",
    "\n",
    "from collections import Counter\n",
    "import time\n",
    "import warnings"
   ],
   "id": "initial_id",
   "outputs": [],
   "execution_count": 1
  },
  {
   "metadata": {
    "ExecuteTime": {
     "end_time": "2024-09-26T13:31:20.588305Z",
     "start_time": "2024-09-26T13:31:20.468438Z"
    }
   },
   "cell_type": "code",
   "source": [
    "# Setting device to CPU, as GPU is not available.\n",
    "device = torch.device(\"cuda\" if torch.cuda.is_available() else \"cpu\")\n",
    "print(f\"Device is: {device}\")"
   ],
   "id": "ffd7971750feafcc",
   "outputs": [
    {
     "name": "stdout",
     "output_type": "stream",
     "text": [
      "Device is: cuda\n"
     ]
    }
   ],
   "execution_count": 2
  },
  {
   "metadata": {},
   "cell_type": "markdown",
   "source": "I use cuda because the video card handles complex models much faster than cpu.",
   "id": "722a39bc16c66b4f"
  },
  {
   "metadata": {
    "ExecuteTime": {
     "end_time": "2024-09-26T13:31:20.593405Z",
     "start_time": "2024-09-26T13:31:20.589316Z"
    }
   },
   "cell_type": "code",
   "source": [
    "# Suppressing specific (useless) warnings from the transformers module \n",
    "warnings.filterwarnings('ignore', category=FutureWarning, module='transformers')"
   ],
   "id": "6290d366850f79df",
   "outputs": [],
   "execution_count": 3
  },
  {
   "metadata": {},
   "cell_type": "markdown",
   "source": "# Data preprocessing",
   "id": "86a145cbdff675aa"
  },
  {
   "metadata": {
    "ExecuteTime": {
     "end_time": "2024-09-26T13:31:20.605372Z",
     "start_time": "2024-09-26T13:31:20.594421Z"
    }
   },
   "cell_type": "code",
   "source": [
    "# Loading dataset\n",
    "file_path = 'JobLevelData.csv'\n",
    "df = pd.read_csv(file_path, delimiter=';')\n",
    "\n",
    "# Checking the presence of labels in each column\n",
    "columns_with_labels = ['Column 1', 'Column 2', 'Column 3', 'Column 4']\n",
    "label_counts = df[columns_with_labels].notna().sum()"
   ],
   "id": "4d429d8b6d009530",
   "outputs": [],
   "execution_count": 4
  },
  {
   "metadata": {
    "ExecuteTime": {
     "end_time": "2024-09-26T13:31:20.612386Z",
     "start_time": "2024-09-26T13:31:20.606388Z"
    }
   },
   "cell_type": "code",
   "source": [
    "# Replacing NaN values in label columns with empty strings\n",
    "df[columns_with_labels] = df[columns_with_labels].fillna('')"
   ],
   "id": "e46fe9480c838835",
   "outputs": [],
   "execution_count": 5
  },
  {
   "metadata": {
    "ExecuteTime": {
     "end_time": "2024-09-26T13:31:20.633079Z",
     "start_time": "2024-09-26T13:31:20.613910Z"
    }
   },
   "cell_type": "code",
   "source": [
    "# Combining labels from all columns into a single list for each job title\n",
    "df['labels'] = df[columns_with_labels].apply(lambda row: [label for label in row if label != ''], axis=1)"
   ],
   "id": "6663d58a2a17e580",
   "outputs": [],
   "execution_count": 6
  },
  {
   "metadata": {},
   "cell_type": "markdown",
   "source": [
    "Why merge labels? So that each position can have one list of all the labels associated with it, which is important for the multi-label classification task.\n",
    "\n",
    "Why is this necessary? This is necessary for the model to be properly trained to predict all related labels for each post.\n",
    "\n",
    "The main goal is to predict labels for each post, not to predict which column the post itself is in."
   ],
   "id": "af7eba5d8d80ecb7"
  },
  {
   "metadata": {
    "ExecuteTime": {
     "end_time": "2024-09-26T13:31:20.639417Z",
     "start_time": "2024-09-26T13:31:20.633988Z"
    }
   },
   "cell_type": "code",
   "source": [
    "# Calculate the lengths of the label list for each line\n",
    "df['num_labels'] = df['labels'].apply(len)\n",
    "\n",
    "# Let's check the distribution of label lengths\n",
    "length_distribution = df['num_labels'].value_counts().sort_index()"
   ],
   "id": "5162adadb0614f26",
   "outputs": [],
   "execution_count": 7
  },
  {
   "metadata": {
    "ExecuteTime": {
     "end_time": "2024-09-26T13:31:20.897956Z",
     "start_time": "2024-09-26T13:31:20.640430Z"
    }
   },
   "cell_type": "code",
   "source": [
    "# Visualizing the distribution of labels across columns\n",
    "plt.figure(figsize=(10, 6))\n",
    "label_counts.plot(kind='bar', color='green')\n",
    "plt.title(\"Label distribution across columns\")\n",
    "plt.xlabel(\"Label Columns\")\n",
    "plt.ylabel(\"Count of Labels\")\n",
    "plt.xticks(rotation=0)\n",
    "plt.show()\n",
    "\n",
    "length_distribution"
   ],
   "id": "e39ce2b5d85d9529",
   "outputs": [
    {
     "data": {
      "text/plain": [
       "<Figure size 1000x600 with 1 Axes>"
      ],
      "image/png": "[encoded data removed]"
     },
     "metadata": {},
     "output_type": "display_data"
    },
    {
     "data": {
      "text/plain": [
       "num_labels\n",
       "0      10\n",
       "1    2097\n",
       "2     121\n",
       "3       1\n",
       "4      11\n",
       "Name: count, dtype: int64"
      ]
     },
     "execution_count": 8,
     "metadata": {},
     "output_type": "execute_result"
    }
   ],
   "execution_count": 8
  },
  {
   "metadata": {},
   "cell_type": "markdown",
   "source": "The largest number of labels is contained in Column 1, and the other columns contain fewer labels.",
   "id": "c044f4cc11026e5"
  },
  {
   "metadata": {
    "ExecuteTime": {
     "end_time": "2024-09-26T13:31:20.904606Z",
     "start_time": "2024-09-26T13:31:20.898972Z"
    }
   },
   "cell_type": "code",
   "source": [
    "def plot_label_distribution(df, column_name='labels'):\n",
    "    \"\"\"\n",
    "    Plots the distribution of labels in the specified column of a DataFrame.\n",
    "\n",
    "    :param df: pandas DataFrame containing the data\n",
    "    :param column_name: Name of the column that contains the labels (default is 'labels')\n",
    "    :return: A pandas DataFrame with labels and their corresponding counts, sorted by frequency\n",
    "    \"\"\"\n",
    "    # Collecting all labels into a single list\n",
    "    all_label_occurrences = [label for sublist in df[column_name].values for label in sublist]\n",
    "\n",
    "    # Counting occurrences of each label\n",
    "    label_counts = Counter(all_label_occurrences)\n",
    "\n",
    "    # Converting the label count data into a DataFrame for better visualization\n",
    "    label_distribution = pd.DataFrame({\n",
    "        'Label': list(label_counts.keys()),    \n",
    "        'Count': list(label_counts.values())   \n",
    "    })\n",
    "\n",
    "    # Sorting the DataFrame by label frequency in descending order\n",
    "    label_distribution = label_distribution.sort_values(by='Count', ascending=False)\n",
    "\n",
    "    # Visualization of label distribution\n",
    "    plt.figure(figsize=(10, 6))\n",
    "    plt.barh(label_distribution['Label'], label_distribution['Count'], color='green')\n",
    "    plt.xlabel('Quantity')\n",
    "    plt.title('Label Distribution')\n",
    "    plt.gca().invert_yaxis()  # Invert y-axis for better readability\n",
    "    plt.show()\n",
    "\n",
    "    return label_distribution"
   ],
   "id": "2ad3fb2fb28b62fa",
   "outputs": [],
   "execution_count": 9
  },
  {
   "metadata": {
    "ExecuteTime": {
     "end_time": "2024-09-26T13:31:21.020982Z",
     "start_time": "2024-09-26T13:31:20.905624Z"
    }
   },
   "cell_type": "code",
   "source": "plot_label_distribution(df)",
   "id": "217deb8d124dc008",
   "outputs": [
    {
     "data": {
      "text/plain": [
       "<Figure size 1000x600 with 1 Axes>"
      ],
      "image/png": "[encoded data removed]"
     },
     "metadata": {},
     "output_type": "display_data"
    },
    {
     "data": {
      "text/plain": [
       "                          Label  Count\n",
       "2  Individual Contributor/Staff   1105\n",
       "3                      Director    497\n",
       "0                Vice President    403\n",
       "1                       Manager    211\n",
       "4                 Chief Officer    166\n",
       "5                         Owner      4"
      ],
      "text/html": [
       "<div>\n",
       "<style scoped>\n",
       "    .dataframe tbody tr th:only-of-type {\n",
       "        vertical-align: middle;\n",
       "    }\n",
       "\n",
       "    .dataframe tbody tr th {\n",
       "        vertical-align: top;\n",
       "    }\n",
       "\n",
       "    .dataframe thead th {\n",
       "        text-align: right;\n",
       "    }\n",
       "</style>\n",
       "<table border=\"1\" class=\"dataframe\">\n",
       "  <thead>\n",
       "    <tr style=\"text-align: right;\">\n",
       "      <th></th>\n",
       "      <th>Label</th>\n",
       "      <th>Count</th>\n",
       "    </tr>\n",
       "  </thead>\n",
       "  <tbody>\n",
       "    <tr>\n",
       "      <th>2</th>\n",
       "      <td>Individual Contributor/Staff</td>\n",
       "      <td>1105</td>\n",
       "    </tr>\n",
       "    <tr>\n",
       "      <th>3</th>\n",
       "      <td>Director</td>\n",
       "      <td>497</td>\n",
       "    </tr>\n",
       "    <tr>\n",
       "      <th>0</th>\n",
       "      <td>Vice President</td>\n",
       "      <td>403</td>\n",
       "    </tr>\n",
       "    <tr>\n",
       "      <th>1</th>\n",
       "      <td>Manager</td>\n",
       "      <td>211</td>\n",
       "    </tr>\n",
       "    <tr>\n",
       "      <th>4</th>\n",
       "      <td>Chief Officer</td>\n",
       "      <td>166</td>\n",
       "    </tr>\n",
       "    <tr>\n",
       "      <th>5</th>\n",
       "      <td>Owner</td>\n",
       "      <td>4</td>\n",
       "    </tr>\n",
       "  </tbody>\n",
       "</table>\n",
       "</div>"
      ]
     },
     "execution_count": 10,
     "metadata": {},
     "output_type": "execute_result"
    }
   ],
   "execution_count": 10
  },
  {
   "metadata": {},
   "cell_type": "markdown",
   "source": [
    "An imbalance of labels (e.g., more “Individual Contributor/Staff” posts) may cause the model to be worse at recognizing less frequent labels.\n",
    "\n",
    "It may be worth applying methods to correct it (e.g. oversampling/undersampling or using special losses for the model).\n",
    "\n",
    "However, at this point it is worth saying that only label Owner can be problematic.\n",
    "\n",
    "We will draw conclusions about the results later."
   ],
   "id": "c9031d1baa641b32"
  },
  {
   "metadata": {
    "ExecuteTime": {
     "end_time": "2024-09-26T13:31:21.037752Z",
     "start_time": "2024-09-26T13:31:21.020982Z"
    }
   },
   "cell_type": "code",
   "source": [
    "not_required_label = \"Not Required\"\n",
    "\n",
    "# Count rows with empty labels before replacement\n",
    "empty_labels_count = df['labels'].str.len().eq(0).sum()\n",
    "\n",
    "# Replace empty label lists with \"Not Required\"\n",
    "df['labels'] = df['labels'].apply(lambda labels: labels or [not_required_label])\n",
    "\n",
    "# Count rows where labels were replaced with \"Not Required\"\n",
    "not_required_count = df['labels'].apply(lambda labels: not_required_label in labels).sum()\n",
    "print(f\"Number of rows where labels were replaced with '{not_required_label}': {not_required_count}\")"
   ],
   "id": "2479f2ebe344a6c7",
   "outputs": [
    {
     "name": "stdout",
     "output_type": "stream",
     "text": [
      "Number of rows where labels were replaced with 'Not Required': 10\n"
     ]
    }
   ],
   "execution_count": 11
  },
  {
   "metadata": {
    "ExecuteTime": {
     "end_time": "2024-09-26T13:31:21.051074Z",
     "start_time": "2024-09-26T13:31:21.041106Z"
    }
   },
   "cell_type": "code",
   "source": [
    "# Collecting all unique labels from all columns, включая 'Not Required'\n",
    "all_labels = list(sorted(set([label for sublist in df[columns_with_labels].values for label in sublist if label != ''])))\n",
    "\n",
    "# Add 'Not Required' to the list of unique labels\n",
    "if not_required_label not in all_labels:\n",
    "    all_labels.append(not_required_label)"
   ],
   "id": "62eb02694b6af7f9",
   "outputs": [],
   "execution_count": 12
  },
  {
   "metadata": {
    "ExecuteTime": {
     "end_time": "2024-09-26T13:31:21.058305Z",
     "start_time": "2024-09-26T13:31:21.053619Z"
    }
   },
   "cell_type": "code",
   "source": [
    "# Create a dictionary that assigns a unique index to each label\n",
    "label_to_idx = {label: idx for idx, label in enumerate(all_labels)}"
   ],
   "id": "d604d1056fdb5f04",
   "outputs": [],
   "execution_count": 13
  },
  {
   "metadata": {
    "ExecuteTime": {
     "end_time": "2024-09-26T13:31:21.066835Z",
     "start_time": "2024-09-26T13:31:21.060319Z"
    }
   },
   "cell_type": "code",
   "source": [
    "# Convert labels to their respective indices\n",
    "df['label_indices'] = df['labels'].apply(lambda labels: [label_to_idx[label] for label in labels])"
   ],
   "id": "770f43012785c372",
   "outputs": [],
   "execution_count": 14
  },
  {
   "metadata": {
    "ExecuteTime": {
     "end_time": "2024-09-26T13:31:21.076297Z",
     "start_time": "2024-09-26T13:31:21.068880Z"
    }
   },
   "cell_type": "code",
   "source": [
    "# Filter rows where the 'labels' column contains 'Not Required'\n",
    "not_required_rows = df[df['labels'].apply(lambda labels: \"Not Required\" in labels)]"
   ],
   "id": "c2da01438cf9afa5",
   "outputs": [],
   "execution_count": 15
  },
  {
   "metadata": {
    "ExecuteTime": {
     "end_time": "2024-09-26T13:31:21.252623Z",
     "start_time": "2024-09-26T13:31:21.078307Z"
    }
   },
   "cell_type": "code",
   "source": "plot_label_distribution(df)",
   "id": "39b9655ab8a66ec3",
   "outputs": [
    {
     "data": {
      "text/plain": [
       "<Figure size 1000x600 with 1 Axes>"
      ],
      "image/png": "[encoded data removed]"
     },
     "metadata": {},
     "output_type": "display_data"
    },
    {
     "data": {
      "text/plain": [
       "                          Label  Count\n",
       "2  Individual Contributor/Staff   1105\n",
       "3                      Director    497\n",
       "0                Vice President    403\n",
       "1                       Manager    211\n",
       "4                 Chief Officer    166\n",
       "6                  Not Required     10\n",
       "5                         Owner      4"
      ],
      "text/html": [
       "<div>\n",
       "<style scoped>\n",
       "    .dataframe tbody tr th:only-of-type {\n",
       "        vertical-align: middle;\n",
       "    }\n",
       "\n",
       "    .dataframe tbody tr th {\n",
       "        vertical-align: top;\n",
       "    }\n",
       "\n",
       "    .dataframe thead th {\n",
       "        text-align: right;\n",
       "    }\n",
       "</style>\n",
       "<table border=\"1\" class=\"dataframe\">\n",
       "  <thead>\n",
       "    <tr style=\"text-align: right;\">\n",
       "      <th></th>\n",
       "      <th>Label</th>\n",
       "      <th>Count</th>\n",
       "    </tr>\n",
       "  </thead>\n",
       "  <tbody>\n",
       "    <tr>\n",
       "      <th>2</th>\n",
       "      <td>Individual Contributor/Staff</td>\n",
       "      <td>1105</td>\n",
       "    </tr>\n",
       "    <tr>\n",
       "      <th>3</th>\n",
       "      <td>Director</td>\n",
       "      <td>497</td>\n",
       "    </tr>\n",
       "    <tr>\n",
       "      <th>0</th>\n",
       "      <td>Vice President</td>\n",
       "      <td>403</td>\n",
       "    </tr>\n",
       "    <tr>\n",
       "      <th>1</th>\n",
       "      <td>Manager</td>\n",
       "      <td>211</td>\n",
       "    </tr>\n",
       "    <tr>\n",
       "      <th>4</th>\n",
       "      <td>Chief Officer</td>\n",
       "      <td>166</td>\n",
       "    </tr>\n",
       "    <tr>\n",
       "      <th>6</th>\n",
       "      <td>Not Required</td>\n",
       "      <td>10</td>\n",
       "    </tr>\n",
       "    <tr>\n",
       "      <th>5</th>\n",
       "      <td>Owner</td>\n",
       "      <td>4</td>\n",
       "    </tr>\n",
       "  </tbody>\n",
       "</table>\n",
       "</div>"
      ]
     },
     "execution_count": 16,
     "metadata": {},
     "output_type": "execute_result"
    }
   ],
   "execution_count": 16
  },
  {
   "metadata": {},
   "cell_type": "markdown",
   "source": "We see that the two poorly represented Labels take up 0.5% of the data.  We will use the function to calculate the weight of the weights relative to their frequency of occurrence. In this way we solve the problem of poorly represented data.",
   "id": "2de4d07692ddc555"
  },
  {
   "metadata": {},
   "cell_type": "markdown",
   "source": "### Tokenize using distilBERT",
   "id": "2ed6737185c4e850"
  },
  {
   "metadata": {},
   "cell_type": "markdown",
   "source": [
    "Why distilBERT?\n",
    "\n",
    "- Smaller size and higher efficiency: DistilBERT is a lightweight version of BERT (Bidirectional Encoder Representations from Transformers) that is trained using distillation, while preserving up to 97% of the quality of the original BERT. It is significantly lighter and faster in operation. Due to its bidirectional architectures, the model is good at capturing context and relationships between words in sentences.\n",
    "\n",
    "- DistilBERT copes well with unstructured data such as job titles where different formats, styles and variations may be present. The model is capable of highlighting key features and dependencies in texts\n",
    "\n",
    "- Thanks to its transformational architecture, DistilBERT can efficiently handle tasks where the same observation may belong to several classes (labels) at once\n",
    "\n",
    "- DistilBERT provides an off-the-shelf tokenizer that efficiently partitions text into tokens, preserving the important information and structures needed for successful classification.\n",
    "\n",
    "Bottom line:\n",
    "- It combines efficiency and high quality text processing by utilizing an attention mechanism to understand context.\n",
    "- It is lighter and faster compared to BERT, making it suitable for tasks requiring high performance without excessive resource consumption.\n",
    "- Transformer-based models such as DistilBERT are better at processing text data by capturing both local and global dependencies in text, which is critical for complex text classification tasks."
   ],
   "id": "5685d8044d0fd11a"
  },
  {
   "metadata": {
    "ExecuteTime": {
     "end_time": "2024-09-26T13:31:21.678358Z",
     "start_time": "2024-09-26T13:31:21.253640Z"
    }
   },
   "cell_type": "code",
   "source": [
    "# Tokenize job titles using DistilBERT tokenizer\n",
    "tokenizer = DistilBertTokenizer.from_pretrained('distilbert-base-uncased')"
   ],
   "id": "665252c33fdfd8b0",
   "outputs": [],
   "execution_count": 17
  },
  {
   "metadata": {
    "ExecuteTime": {
     "end_time": "2024-09-26T13:31:22.060753Z",
     "start_time": "2024-09-26T13:31:21.681374Z"
    }
   },
   "cell_type": "code",
   "source": [
    "# Each job title is tokenized and special tokens [CLS]-101 and [SEP]-102 are added\n",
    "df['tokens'] = df['Title'].apply(lambda x: tokenizer.encode(x, add_special_tokens=True))"
   ],
   "id": "95897f79e677d9d3",
   "outputs": [],
   "execution_count": 18
  },
  {
   "metadata": {},
   "cell_type": "markdown",
   "source": "# Data preparation for model",
   "id": "53beb5ba75042d6"
  },
  {
   "metadata": {
    "ExecuteTime": {
     "end_time": "2024-09-26T13:31:22.068631Z",
     "start_time": "2024-09-26T13:31:22.062295Z"
    }
   },
   "cell_type": "code",
   "source": [
    "# Convert the labels into binary format\n",
    "# Converts the list of label indices for each sample into a binary matrix\n",
    "mlb = MultiLabelBinarizer()\n",
    "y_binary = mlb.fit_transform(df['label_indices'])\n",
    "\n",
    "# Convert the binary labels into PyTorch tensors\n",
    "y_binary = torch.tensor(y_binary, dtype=torch.float32)"
   ],
   "id": "4a4985ec41ac6961",
   "outputs": [],
   "execution_count": 19
  },
  {
   "metadata": {},
   "cell_type": "markdown",
   "source": "I originally planned to use embeddings to represent labels, as it allows for dense vector representations of categorical data and revealing relationships between labels. However, in a multi-label categorization task, embeddings are not suitable for simply representing multiple labels. As a result, I used the multi-label binary format.",
   "id": "ee93a86c90698ee8"
  },
  {
   "metadata": {
    "ExecuteTime": {
     "end_time": "2024-09-26T13:31:22.073384Z",
     "start_time": "2024-09-26T13:31:22.069650Z"
    }
   },
   "cell_type": "code",
   "source": [
    "# Define k-fold cross-validation\n",
    "mskf = MultilabelStratifiedKFold(n_splits=5, shuffle=True, random_state=42)"
   ],
   "id": "c71c5830c34fe073",
   "outputs": [],
   "execution_count": 20
  },
  {
   "metadata": {},
   "cell_type": "markdown",
   "source": "I decided to use Stratified K-Fold with shuffle because it gives a more robust estimation of the model compared to a simple split into train and test. In normal partitioning, labels may not be evenly distributed across samples, which is especially critical in the case of unbalanced data. Stratified K-Fold helps to maintain label proportions across all folds, which gives a more accurate picture of model performance. Shuffling the data before partitioning further prevents the influence of possible hidden patterns in the original order of the data.",
   "id": "e26fb9984c614551"
  },
  {
   "metadata": {
    "ExecuteTime": {
     "end_time": "2024-09-26T13:31:22.079366Z",
     "start_time": "2024-09-26T13:31:22.074399Z"
    }
   },
   "cell_type": "code",
   "source": [
    "def pad_token_sequences(token_lists, max_length=None):\n",
    "    \"\"\"\n",
    "    Pads token sequences to ensure all sequences in a batch are of the same length.\n",
    "\n",
    "    :param token_lists: A list of tokenized sequences (lists of token IDs) that need to be padded.\n",
    "    :param max_length: Optional; the maximum length to pad or truncate the sequences to.\n",
    "    :return: Tuple containing the padded token sequences and their corresponding attention masks.\n",
    "    \"\"\"\n",
    "    # Convert the list of token sequences into PyTorch tensors\n",
    "    token_tensors = [torch.tensor(tokens, dtype=torch.long) for tokens in token_lists]\n",
    "    \n",
    "    # Apply padding to ensure all sequences in the batch have the same length\n",
    "    # pad_sequence ensures that shorter sequences are padded with the padding value (0 in this case)\n",
    "    padded_tokens = pad_sequence(token_tensors, batch_first=True, padding_value=0)\n",
    "    \n",
    "    # If a max_length is provided, truncate the sequences to that length\n",
    "    if max_length:\n",
    "        padded_tokens = padded_tokens[:, :max_length]\n",
    "    \n",
    "    # Create an attention mask: 1 for real tokens, 0 for padding tokens\n",
    "    attention_mask = (padded_tokens != 0).long()\n",
    "    \n",
    "    return padded_tokens, attention_mask"
   ],
   "id": "9ede64349c3ecae2",
   "outputs": [],
   "execution_count": 21
  },
  {
   "metadata": {},
   "cell_type": "markdown",
   "source": [
    "This “pad_token_sequences” function addresses the problem that the lengths of tokenized sequences can vary across data samples. Models such as BERT require that all sequences in a batch have the same length for proper processing.\n",
    "\n",
    "An attention mask is created, where real tokens are labeled as 1 and padding tokens are labeled as 0. This helps the model to ignore padding during computation."
   ],
   "id": "4b38f5e55d843d3a"
  },
  {
   "metadata": {},
   "cell_type": "markdown",
   "source": "# Model Building",
   "id": "cb636cdf3f053441"
  },
  {
   "metadata": {
    "ExecuteTime": {
     "end_time": "2024-09-26T13:31:22.083988Z",
     "start_time": "2024-09-26T13:31:22.080380Z"
    }
   },
   "cell_type": "code",
   "source": [
    "# Load a pre-trained BERT model for multi-label classification\n",
    "# 1 is the number of unique labels in the dataset\n",
    "num_labels = y_binary.shape[1]  "
   ],
   "id": "3ecb73023f195ae5",
   "outputs": [],
   "execution_count": 22
  },
  {
   "metadata": {},
   "cell_type": "code",
   "source": [
    "# Load the pre-trained BERT model for sequence classification\n",
    "model = DistilBertForSequenceClassification.from_pretrained(\n",
    "    'distilbert-base-uncased',\n",
    "    num_labels=num_labels\n",
    ")"
   ],
   "id": "3c4e6d468daa28b4",
   "outputs": [],
   "execution_count": null
  },
  {
   "metadata": {
    "ExecuteTime": {
     "end_time": "2024-09-26T13:31:22.600433Z",
     "start_time": "2024-09-26T13:31:22.596130Z"
    }
   },
   "cell_type": "code",
   "source": [
    "# Tokens from df\n",
    "tokens = df['tokens'].values "
   ],
   "id": "f7835e579bcbb75",
   "outputs": [],
   "execution_count": 24
  },
  {
   "metadata": {
    "ExecuteTime": {
     "end_time": "2024-09-26T13:31:22.607504Z",
     "start_time": "2024-09-26T13:31:22.602337Z"
    }
   },
   "cell_type": "code",
   "source": [
    "# Function to calculate class weights\n",
    "def calculate_class_weights(y_binary):\n",
    "    \"\"\"\n",
    "    Calculates class weights based on the inverse frequency of each class.\n",
    "    This is useful for dealing with imbalanced datasets, where classes with fewer examples are given higher weights.\n",
    "    \"\"\"\n",
    "\n",
    "    # Count the number of samples for each class by summing along the axis (columns) of the binary label matrix\n",
    "    class_counts = y_binary.sum(axis=0).cpu().numpy()\n",
    "    \n",
    "    # Calculate the total number of samples in the dataset\n",
    "    total_samples = len(y_binary)\n",
    "    \n",
    "    # Calculate class weights using square root of the inverse frequency of each class\n",
    "    # Classes with fewer examples get higher weights\n",
    "    class_weights = np.sqrt(total_samples / (len(class_counts) * class_counts))\n",
    "    \n",
    "    # Print the class weights for debugging purposes\n",
    "    print(\"Class weights:\", class_weights)\n",
    "\n",
    "    # Return the class weights as a PyTorch tensor\n",
    "    return torch.tensor(class_weights, dtype=torch.float32)"
   ],
   "id": "e7afe28ff06229e3",
   "outputs": [],
   "execution_count": 25
  },
  {
   "metadata": {},
   "cell_type": "markdown",
   "source": "To balance the class imbalance, we assign higher weights to classes with fewer examples, encouraging the model to pay more attention to these rare classes during training.",
   "id": "43a80ced2bfa19e3"
  },
  {
   "metadata": {},
   "cell_type": "code",
   "source": [
    "# Define the loss function and optimizer\n",
    "\n",
    "class_weights = calculate_class_weights(y_binary).to(device)\n",
    "\n",
    "# It combines a sigmoid activation with binary cross-entropy loss, which is ideal for predicting multiple labels.\n",
    "# Initialization of the loss function taking into account class weights\n",
    "criterion = torch.nn.BCEWithLogitsLoss(pos_weight=class_weights)\n",
    "\n",
    "# AdamW helps in controlling weight decay during optimization, which is especially useful for models like BERT.\n",
    "optimizer = AdamW(model.parameters(), lr=2e-5)  "
   ],
   "id": "89144ea166599663",
   "outputs": [],
   "execution_count": null
  },
  {
   "metadata": {},
   "cell_type": "markdown",
   "source": [
    " The BCEWithLogitsLoss function was chosen because it combines sigmoid activation and binary cross-entropy in one step, which is particularly suitable for multi-label classification tasks. In such tasks, each class is predicted independently, and the sigmoid helps transform the model logits into probabilities for each class. This allows us to efficiently handle the binary labels (0 or 1) for each class and consider them simultaneously.\n",
    "\n",
    "The AdamW optimizer was chosen because it effectively handles the optimization task by controlling weight decay, which controls the updating of the model weights, preventing them from increasing too much during training. Weight decay adds regularization, which reduces the likelihood of overfitting."
   ],
   "id": "9e4025dbb0f2810"
  },
  {
   "metadata": {},
   "cell_type": "markdown",
   "source": "### Main training loop",
   "id": "c42b8e209d74a1c0"
  },
  {
   "metadata": {},
   "cell_type": "code",
   "source": [
    "print(f\"Using device: {device}\")\n",
    "\n",
    "# Specify number of epochs and batch size\n",
    "num_epochs = 3\n",
    "batch_size = 4\n",
    "\n",
    "# Iterating through each fold of cross-validation\n",
    "for fold, (train_index, test_index) in enumerate(mskf.split(df['tokens'], y_binary)):\n",
    "    print(f\"\\nFold {fold + 1}\")\n",
    "\n",
    "    # Start timer for the fold\n",
    "    fold_start_time = time.time()\n",
    "\n",
    "    # Splitting data into training and test sets for the current fold\n",
    "    X_train, X_test = df['tokens'].iloc[train_index], df['tokens'].iloc[test_index]\n",
    "    y_train, y_test = y_binary[train_index], y_binary[test_index]  # Already in tensor format\n",
    "\n",
    "    # Convert training and test data to list form for padding\n",
    "    X_train = list(X_train)\n",
    "    X_test = list(X_test)\n",
    "\n",
    "    # Apply padding and create attention masks for training and test sets\n",
    "    X_train_padded, X_train_mask = pad_token_sequences(X_train, max_length=128)\n",
    "    X_test_padded, X_test_mask = pad_token_sequences(X_test, max_length=128)\n",
    "\n",
    "    # Move the data to the specified device (CPU or GPU)\n",
    "    X_train_padded = X_train_padded.to(device)\n",
    "    X_train_mask = X_train_mask.to(device)\n",
    "    y_train = y_train.to(device)\n",
    "\n",
    "    X_test_padded = X_test_padded.to(device)\n",
    "    X_test_mask = X_test_mask.to(device)\n",
    "    y_test = y_test.to(device)\n",
    "\n",
    "    # Move the model to the specified device\n",
    "    model.to(device)\n",
    "\n",
    "    # Create a DataLoader for batching the training data\n",
    "    train_dataset = TensorDataset(X_train_padded, X_train_mask, y_train)\n",
    "    train_loader = DataLoader(train_dataset, batch_size=batch_size, shuffle=True)\n",
    "\n",
    "    # Loop through each epoch\n",
    "    for epoch in range(num_epochs):\n",
    "        epoch_start_time = time.time()  # Start time for the epoch\n",
    "\n",
    "        model.train()  # Set the model to training mode\n",
    "        total_loss = 0  # Initialize the total loss for the epoch\n",
    "\n",
    "        # Loop through each batch in the DataLoader\n",
    "        for batch in train_loader:\n",
    "            batch_input_ids, batch_attention_mask, batch_labels = batch\n",
    "            batch_input_ids = batch_input_ids.to(device)\n",
    "            batch_attention_mask = batch_attention_mask.to(device)\n",
    "            batch_labels = batch_labels.to(device)\n",
    "\n",
    "            # Forward pass through the model\n",
    "            outputs = model(input_ids=batch_input_ids, attention_mask=batch_attention_mask, labels=batch_labels)\n",
    "\n",
    "            # Calculate the loss using the criterion (BCEWithLogitsLoss)\n",
    "            loss = criterion(outputs.logits, batch_labels)\n",
    "\n",
    "            # Backpropagation and optimization step\n",
    "            optimizer.zero_grad()  # Reset gradients\n",
    "            loss.backward()  # Compute gradients\n",
    "            optimizer.step()  # Update weights\n",
    "\n",
    "            # Accumulate loss\n",
    "            total_loss += loss.item()\n",
    "\n",
    "        # Calculate time taken for the epoch\n",
    "        epoch_time = time.time() - epoch_start_time\n",
    "        print(f\"Epoch [{epoch+1}/{num_epochs}], Average Loss: {total_loss / len(train_loader)}, Epoch Time: {epoch_time:.2f} sec\\n\")\n",
    "\n",
    "        # Evaluate on the training set\n",
    "        model.eval()  # Set model to evaluation mode\n",
    "        with torch.no_grad():\n",
    "            # Predictions on the training set\n",
    "            outputs_train = model(input_ids=X_train_padded, attention_mask=X_train_mask)\n",
    "            train_predictions = torch.sigmoid(outputs_train.logits) > 0.5  # Convert logits to binary predictions\n",
    "\n",
    "            # Compute metrics on training set\n",
    "            train_f1 = f1_score(y_train.cpu(), train_predictions.cpu(), average='micro')\n",
    "            train_accuracy = accuracy_score(y_train.cpu(), train_predictions.cpu())\n",
    "\n",
    "            # Predictions on the test set\n",
    "            outputs_test = model(input_ids=X_test_padded, attention_mask=X_test_mask)\n",
    "            test_predictions = torch.sigmoid(outputs_test.logits) > 0.5  # Convert logits to binary predictions\n",
    "\n",
    "            # Compute metrics on test set\n",
    "            test_f1 = f1_score(y_test.cpu(), test_predictions.cpu(), average='micro')\n",
    "            test_accuracy = accuracy_score(y_test.cpu(), test_predictions.cpu())\n",
    "\n",
    "            # Print training and test metrics for the current epoch\n",
    "            print(f\"F1-score on TRAIN set (epoch {epoch+1}): {train_f1}\")\n",
    "            print(f\"Accuracy on TRAIN set (epoch {epoch+1}): {train_accuracy}\")\n",
    "\n",
    "            print(f\"\\nF1-score on TEST set (epoch {epoch+1}): {test_f1}\")\n",
    "            print(f\"Accuracy on TEST set (epoch {epoch+1}): {test_accuracy}\")\n",
    "\n",
    "    # Final evaluation on the test set after all epochs for the current fold\n",
    "    model.eval()\n",
    "    with torch.no_grad():\n",
    "        # Final predictions on the test set for the current fold\n",
    "        outputs_test = model(input_ids=X_test_padded, attention_mask=X_test_mask)\n",
    "        test_predictions = torch.sigmoid(outputs_test.logits) > 0.5  # Convert logits to binary predictions\n",
    "\n",
    "        # Compute final metrics on the test set\n",
    "        test_f1 = f1_score(y_test.cpu(), test_predictions.cpu(), average='micro')\n",
    "        test_accuracy = accuracy_score(y_test.cpu(), test_predictions.cpu())\n",
    "\n",
    "        # Print final metrics for the fold\n",
    "        print(f\"\\nF1-score on TEST set (fold {fold+1}): {test_f1}\")\n",
    "        print(f\"Accuracy on TEST set (fold {fold+1}): {test_accuracy}\\n\")\n",
    "\n",
    "    # Print the total time taken for the fold\n",
    "    fold_time = time.time() - fold_start_time\n",
    "    print(f\"Fold {fold+1} completed in: {fold_time:.2f} sec\")\n"
   ],
   "id": "425958cb708df70a",
   "outputs": [],
   "execution_count": null
  },
  {
   "metadata": {},
   "cell_type": "markdown",
   "source": [
    "Example of last output from previous cell: \n",
    "F1 on TEST set (fold 5): 0.994 | \n",
    "Accuracy on TEST set (fold 5): 0.992\n",
    "\n",
    "I chose F1-score and Accuracy metrics to evaluate model performance because they complement each other. F1-score is particularly important in tasks with unbalanced classes because it considers both precision and recall, which allows for a more accurate assessment of how well the model predicts rare labels.\n",
    " \n",
    "Accuracy, on the other hand, gives a general idea of the proportion of correctly predicted examples and is easy to interpret."
   ],
   "id": "8cdf03bc18944d56"
  },
  {
   "metadata": {
    "ExecuteTime": {
     "end_time": "2024-09-26T13:32:45.710114Z",
     "start_time": "2024-09-26T13:32:45.710114Z"
    }
   },
   "cell_type": "code",
   "source": [
    "# Path to model\n",
    "output_dir = 'distilBERT_model_new'"
   ],
   "id": "55f1e8a91f9c1f79",
   "outputs": [],
   "execution_count": null
  },
  {
   "metadata": {
    "ExecuteTime": {
     "end_time": "2024-09-26T13:32:45.711087Z",
     "start_time": "2024-09-26T13:32:45.711087Z"
    }
   },
   "cell_type": "code",
   "source": [
    "# Save the model's weights and configuration\n",
    "# This saves not only the model's parameters but also its configuration (e.g., architecture type, number of layers)\n",
    "model.save_pretrained(output_dir)\n",
    "\n",
    "# Save the tokenizer used during training\n",
    "# Saving the tokenizer ensures that when the model is later loaded, it uses the same tokenization process (e.g., special tokens, vocabulary) for consistent preprocessing\n",
    "tokenizer.save_pretrained(output_dir)"
   ],
   "id": "e3681a5900e67651",
   "outputs": [],
   "execution_count": null
  },
  {
   "metadata": {},
   "cell_type": "markdown",
   "source": "# GENERATE FROM MODEL SAVE",
   "id": "4cfffbed99d424c5"
  },
  {
   "metadata": {
    "ExecuteTime": {
     "end_time": "2024-09-26T13:32:45.712636Z",
     "start_time": "2024-09-26T13:32:45.711087Z"
    }
   },
   "cell_type": "code",
   "source": [
    "# Set the device for prediction\n",
    "device = torch.device(\"cuda\" if torch.cuda.is_available() else \"cpu\") # Using CPU here; switch to \"cuda\" if you have access to a GPU\n",
    "print(f\"Using device: {device}\")\n",
    "\n",
    "# Load the saved model and tokenizer from the directory where they were saved\n",
    "model = DistilBertForSequenceClassification.from_pretrained(output_dir).to(device)\n",
    "tokenizer = DistilBertTokenizer.from_pretrained(output_dir)\n",
    "\n",
    "# Send the model to the device (in this case, CPU)\n",
    "model.to(device)\n",
    "\n",
    "new_texts = df['Title']\n",
    "\n",
    "# Dictionary to store predicted labels for each text\n",
    "predicted_labels_dict = {}\n",
    "\n",
    "# Loop over each text in the list for prediction\n",
    "for text in new_texts:\n",
    "    # Tokenize the new text\n",
    "    inputs = tokenizer.encode_plus(\n",
    "        text,\n",
    "        add_special_tokens=True,  \n",
    "        max_length=128,  \n",
    "        padding='max_length', \n",
    "        return_tensors='pt' \n",
    "    )\n",
    "\n",
    "    # Extract input_ids and attention_mask from tokenized input\n",
    "    input_ids = inputs['input_ids'].to(device) \n",
    "    attention_mask = inputs['attention_mask'].to(device) \n",
    "\n",
    "    model.eval()\n",
    "\n",
    "    with torch.no_grad():\n",
    "        # Pass the input through the model to get the logits \n",
    "        outputs = model(input_ids=input_ids, attention_mask=attention_mask)\n",
    "        logits = outputs.logits  \n",
    "\n",
    "    probs = torch.sigmoid(logits)\n",
    "\n",
    "    # # Logits and probabilities for debugging or inspection\n",
    "    # print(f\"Logits: {logits}\")\n",
    "    # print(f\"Probabilities: {probs}\")\n",
    "\n",
    "    # Apply a threshold (0.5) to determine the final predictions \n",
    "    predictions = (probs > 0.5).cpu().numpy()  # Convert to NumPy and apply threshold\n",
    "\n",
    "    predicted_label_indices = [i for i, val in enumerate(predictions[0]) if val == 1]\n",
    "\n",
    "    # Use `all_labels` to map indices to their corresponding label names\n",
    "    predicted_labels = [all_labels[i] for i in predicted_label_indices]\n",
    "\n",
    "    predicted_labels_dict[text] = predicted_labels\n",
    "\n",
    "    print(f\"Predicted labels for '{text}': {predicted_labels}\")"
   ],
   "id": "33064e45550e7c56",
   "outputs": [],
   "execution_count": null
  },
  {
   "metadata": {
    "ExecuteTime": {
     "end_time": "2024-09-26T13:32:45.712750Z",
     "start_time": "2024-09-26T13:32:45.712750Z"
    }
   },
   "cell_type": "code",
   "source": [
    "# Checking predictions by comparing them with real labels from the dataset\n",
    "\n",
    "counter = 0\n",
    "dubious_predictions = []\n",
    "\n",
    "for text in new_texts:\n",
    "   \n",
    "    real_labels = df[df['Title'] == text]['labels'].values\n",
    "\n",
    "    if len(real_labels) > 0:\n",
    "        real_labels = real_labels[0]  \n",
    "        print(f\"Real labels for '{text}': {real_labels}\")\n",
    "    else:\n",
    "\n",
    "        print(f\"Real labels for '{text}' not found in the dataset.\")\n",
    "\n",
    "    predicted_labels = predicted_labels_dict.get(text, [])\n",
    "    \n",
    "    if set(predicted_labels) == set(real_labels):\n",
    "        print(f\"Prediction for '{text}' is correct.\")\n",
    "    else:\n",
    "        counter += 1\n",
    "        wrong = f\"Prediction error for '{text}'. Predicted: {predicted_labels}, Expected: {real_labels} WRONG\"\n",
    "        dubious_predictions.append(wrong)\n",
    "        print(wrong)\n",
    "    print(\"\\n\")\n",
    "print(f\"Wrong predictions {counter} out of {len(new_texts)}\")"
   ],
   "id": "a6935657a37791ad",
   "outputs": [],
   "execution_count": null
  },
  {
   "metadata": {},
   "cell_type": "code",
   "source": [
    "# for sentence in dubious_predictions:\n",
    "#     print(f\"{sentence}\\n\\n\")\n",
    "print(f\"Wrong predictions {len(dubious_predictions)} out of {len(new_texts)}\")"
   ],
   "id": "e5f3725f9d0df045",
   "outputs": [],
   "execution_count": null
  }
 ],
 "metadata": {
  "kernelspec": {
   "display_name": "Python 3",
   "language": "python",
   "name": "python3"
  },
  "language_info": {
   "codemirror_mode": {
    "name": "ipython",
    "version": 2
   },
   "file_extension": ".py",
   "mimetype": "text/x-python",
   "name": "python",
   "nbconvert_exporter": "python",
   "pygments_lexer": "ipython2",
   "version": "2.7.6"
  }
 },
 "nbformat": 4,
 "nbformat_minor": 5
}
